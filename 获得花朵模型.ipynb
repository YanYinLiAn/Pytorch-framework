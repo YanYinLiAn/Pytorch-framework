{
 "cells": [
  {
   "cell_type": "code",
   "execution_count": 1,
   "id": "e79451f7-7af7-4b4e-a0f8-08ac6ba2fad2",
   "metadata": {},
   "outputs": [],
   "source": [
    "from skimage import io\n",
    "from skimage import transform\n",
    "import numpy as np \n",
    "import pandas as pd\n",
    "import matplotlib.pyplot as plt \n",
    "import os\n",
    "import warnings \n",
    "warnings.filterwarnings('ignore')"
   ]
  },
  {
   "cell_type": "code",
   "execution_count": 6,
   "id": "3bd8f7ea-ae75-45ec-ad62-3b0abc8329fd",
   "metadata": {},
   "outputs": [
    {
     "data": {
      "text/plain": [
       "(263, 320)"
      ]
     },
     "execution_count": 6,
     "metadata": {},
     "output_type": "execute_result"
    }
   ],
   "source": [
    "pic_array_gray = io.imread('../data/flower_data/train/daisy/100080576_f52e8ee070_n.jpg',as_gray=True)\n",
    "# plt.imshow(pic_array_gray)\n",
    "# pic_array_gray = transform.resize(pic_array_gray,(300,300))\n",
    "pic_flatten = pic_array_gray.flatten()\n",
    "# pic_flatten.shape\n",
    "label = {\n",
    "    'daisy':0,\n",
    "    'roses':1\n",
    "}\n",
    "pic_array_gray.shape"
   ]
  },
  {
   "cell_type": "code",
   "execution_count": 8,
   "id": "df87dd69-d264-46dc-afec-1fb6866142db",
   "metadata": {},
   "outputs": [],
   "source": [
    "def make_data(path):\n",
    "    piclist = os.listdir(path)\n",
    "    pic_path = [path + pic for pic in piclist]\n",
    "    list_pic = []\n",
    "    for pic in pic_path:\n",
    "        pic_flatten = transform.resize(io.imread(pic,as_gray=True),(300,300)).flatten()\n",
    "        list_pic.append(pic_flatten)\n",
    "    return list_pic"
   ]
  },
  {
   "cell_type": "code",
   "execution_count": 12,
   "id": "8bac4c50-5378-483f-bff4-c55f767926ba",
   "metadata": {},
   "outputs": [
    {
     "data": {
      "text/plain": [
       "array([[0.5289966 , 0.54199084, 0.55855264, ..., 0.50456802, 0.50452771,\n",
       "        0.50452771],\n",
       "       [0.85024906, 0.81535252, 0.83513135, ..., 0.6843597 , 0.68391224,\n",
       "        0.61109268],\n",
       "       [0.51829202, 0.49667348, 0.49992162, ..., 0.12702959, 0.12157098,\n",
       "        0.12721457],\n",
       "       ...,\n",
       "       [0.43804784, 0.42773541, 0.41478304, ..., 0.26575751, 0.26829815,\n",
       "        0.26177598],\n",
       "       [0.30611508, 0.30573945, 0.31680883, ..., 0.81905683, 0.86788181,\n",
       "        0.88403357],\n",
       "       [0.47916013, 0.48159715, 0.48890824, ..., 0.39796247, 0.36564494,\n",
       "        0.35487243]])"
      ]
     },
     "execution_count": 12,
     "metadata": {},
     "output_type": "execute_result"
    }
   ],
   "source": [
    "# 小雏菊  ###start####\n",
    "path = '../data/flower_data/train/daisy/'\n",
    "daisy_data = make_data(path=path)\n",
    "daisy_data = np.array(daisy_data)\n",
    "daisy_data"
   ]
  },
  {
   "cell_type": "code",
   "execution_count": 14,
   "id": "0e028530-cd32-4699-a9e1-e3adc7eeca83",
   "metadata": {},
   "outputs": [
    {
     "data": {
      "text/plain": [
       "(633, 1)"
      ]
     },
     "execution_count": 14,
     "metadata": {},
     "output_type": "execute_result"
    }
   ],
   "source": [
    "# 小雏菊 分类（y = 0）\n",
    "daisy_labels = np.ones((daisy_data.shape[0],1))\n",
    "daisy_data = np.concatenate([daisy_data,daisy_labels],axis=1)\n",
    "daisy_labels.shape\n",
    "# 小雏菊  ###end####"
   ]
  },
  {
   "cell_type": "code",
   "execution_count": 54,
   "id": "f4a193ec-a7bc-4e0b-a591-24ee78a16a3c",
   "metadata": {},
   "outputs": [],
   "source": [
    "# 玫瑰\n",
    "path = '../data/flower_data/flower_data/train/roses/'\n",
    "roses_data = make_data(path=path)\n",
    "roses_data = np.array(roses_data)\n",
    "roses_labels = np.zeros((roses_data.shape[0],1))\n",
    "roses_data = np.concatenate([roses_data,roses_labels],axis=1)"
   ]
  },
  {
   "cell_type": "code",
   "execution_count": 56,
   "id": "ac5e724b-2e25-4645-9fbc-776fbb630749",
   "metadata": {},
   "outputs": [
    {
     "data": {
      "text/plain": [
       "(1275, 90001)"
      ]
     },
     "execution_count": 56,
     "metadata": {},
     "output_type": "execute_result"
    }
   ],
   "source": [
    "data = np.concatenate([daisy_data,roses_data],axis=0)\n",
    "data.shape"
   ]
  },
  {
   "cell_type": "code",
   "execution_count": 1,
   "id": "2a85fba9-bc10-4bd4-90a4-51fd822f894f",
   "metadata": {},
   "outputs": [],
   "source": [
    "# plt.imshow(data[-1][:-1].reshape(300,300),cmap='gray')"
   ]
  },
  {
   "cell_type": "code",
   "execution_count": 2,
   "id": "cc44ad11-f32f-40b2-bcf2-1edeffc78f6c",
   "metadata": {},
   "outputs": [],
   "source": [
    "# plt.imshow(data[0][:-1].reshape(300,300),cmap='gray')"
   ]
  },
  {
   "cell_type": "code",
   "execution_count": 65,
   "id": "9aafb115-f6a4-4725-9215-8af05bbd9df0",
   "metadata": {},
   "outputs": [],
   "source": [
    "# res = pd.DataFrame(data=data)\n",
    "# res.to_csv('flower.csv')"
   ]
  },
  {
   "cell_type": "code",
   "execution_count": 85,
   "id": "9de8175c-3432-4d9e-a479-7b5a63d07f19",
   "metadata": {},
   "outputs": [],
   "source": [
    "from sklearn.linear_model import LogisticRegression # 逻辑回归\n",
    "from sklearn.model_selection import KFold           # K-折交叉验证法\n",
    "from sklearn.metrics import accuracy_score"
   ]
  },
  {
   "cell_type": "code",
   "execution_count": 5,
   "id": "d3f4fc65-c78f-42c6-88fb-ab577109af28",
   "metadata": {},
   "outputs": [],
   "source": [
    "def kfold(x,y):\n",
    "    kfold = KFold(n_splits=5,shuffle=True)\n",
    "    # 超参数池（L2)\n",
    "    c_param = [0.1,0.2,0.4,0.6,0.8,1.0]\n",
    "    # 遍历参数\n",
    "    acc_info_list = []\n",
    "    for c in c_param:\n",
    "        acc_list = []\n",
    "        print('~~~~~~~~~~~~~~~~~~~')\n",
    "        print('正则惩罚项力度：',c)\n",
    "        print('~~~~~~~~~~~~~~~~~~~')\n",
    "        for train_index,test_index in kfold.split(x):\n",
    "            x_train = x[train_index]\n",
    "            y_train = y[train_index]\n",
    "            x_test = x[test_index]\n",
    "            y_test = y[test_index]\n",
    "            lr = LogisticRegression(C=c)\n",
    "            lr.fit(x_train,y_train)\n",
    "            # 预测 \n",
    "            prediction = lr.predict(x_test)\n",
    "            acc = accuracy_score(y_true=y_test,y_pred=prediction)\n",
    "            print(acc)\n",
    "            acc_list.append(acc)      \n",
    "        acc_info_list.append(acc_list)\n",
    "    return acc_info_list"
   ]
  },
  {
   "cell_type": "code",
   "execution_count": 3,
   "id": "817a5d90-f907-4c7e-88e5-d223beab5648",
   "metadata": {},
   "outputs": [],
   "source": [
    "# x = data[:,:-1]\n",
    "# y = data[:,-1]\n",
    "# res = kfold(x,y)"
   ]
  },
  {
   "cell_type": "code",
   "execution_count": 121,
   "id": "1a813a18-cecc-44ea-8680-6325ae217b5b",
   "metadata": {},
   "outputs": [
    {
     "data": {
      "text/plain": [
       "0.2"
      ]
     },
     "execution_count": 121,
     "metadata": {},
     "output_type": "execute_result"
    }
   ],
   "source": [
    "res_df = pd.DataFrame(res,columns=['k-1','k-2','k-3','k-4','k-5'])\n",
    "res_df['c'] = np.array([0.1,0.2,0.4,0.6,0.8,1.0])\n",
    "res_df\n",
    "max_index = res_df.mean().argmax()\n",
    "best_c = res_df.iloc[max_index,:]['c']\n",
    "best_c"
   ]
  },
  {
   "cell_type": "code",
   "execution_count": 122,
   "id": "3149fd63-9a47-4230-87cd-eea4468303ac",
   "metadata": {},
   "outputs": [
    {
     "data": {
      "text/plain": [
       "LogisticRegression(C=0.2)"
      ]
     },
     "execution_count": 122,
     "metadata": {},
     "output_type": "execute_result"
    }
   ],
   "source": [
    "x = data[:,:-1]\n",
    "y = data[:,-1]\n",
    "lr = LogisticRegression(C=best_c)\n",
    "lr.fit(x,y)"
   ]
  },
  {
   "cell_type": "code",
   "execution_count": 124,
   "id": "fcbec2a5-0771-4774-a9a3-407bd3a8f8b9",
   "metadata": {},
   "outputs": [
    {
     "data": {
      "text/plain": [
       "['flower.pkl']"
      ]
     },
     "execution_count": 124,
     "metadata": {},
     "output_type": "execute_result"
    }
   ],
   "source": [
    "import joblib\n",
    "# 模型保存\n",
    "joblib.dump(lr,'flower.pkl')"
   ]
  }
 ],
 "metadata": {
  "kernelspec": {
   "display_name": "Python 3 (ipykernel)",
   "language": "python",
   "name": "python3"
  },
  "language_info": {
   "codemirror_mode": {
    "name": "ipython",
    "version": 3
   },
   "file_extension": ".py",
   "mimetype": "text/x-python",
   "name": "python",
   "nbconvert_exporter": "python",
   "pygments_lexer": "ipython3",
   "version": "3.9.13"
  }
 },
 "nbformat": 4,
 "nbformat_minor": 5
}
