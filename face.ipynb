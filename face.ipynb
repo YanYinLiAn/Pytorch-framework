{
 "cells": [
  {
   "cell_type": "code",
   "execution_count": 1,
   "id": "34de485e-d697-4cfc-9128-e55e7ac92b2b",
   "metadata": {},
   "outputs": [],
   "source": [
    "import pandas as pd\n",
    "import numpy as np\n",
    "import matplotlib.pyplot as plt\n",
    "from sklearn.model_selection import train_test_split\n",
    "from sklearn.metrics import accuracy_score\n",
    "from sklearn.linear_model import LogisticRegression\n",
    "from sklearn.svm import SVC\n",
    "import warnings\n",
    "warnings.filterwarnings('ignore')"
   ]
  },
  {
   "cell_type": "markdown",
   "id": "d62d8cca-7b90-42b6-9cb9-631150780bd0",
   "metadata": {},
   "source": [
    "0:愤怒\n",
    "1:嫌弃\n",
    "2:疑惑\n",
    "3:喜悦\n",
    "4:悲伤\n",
    "5:惊讶\n",
    "6:冷漠\n"
   ]
  },
  {
   "cell_type": "code",
   "execution_count": 2,
   "id": "31a0d1e3-8f69-44bd-8dd9-b71d21b6a3b5",
   "metadata": {},
   "outputs": [],
   "source": [
    "face_data = pd.read_csv('fer2013.csv')"
   ]
  },
  {
   "cell_type": "code",
   "execution_count": 3,
   "id": "0e5d5606-247f-4057-b47f-111d487ae0bd",
   "metadata": {},
   "outputs": [
    {
     "data": {
      "text/plain": [
       "<matplotlib.image.AxesImage at 0x1ec307e9df0>"
      ]
     },
     "execution_count": 3,
     "metadata": {},
     "output_type": "execute_result"
    },
    {
     "data": {
      "image/png": "[encoded data removed]",
      "text/plain": [
       "<Figure size 640x480 with 1 Axes>"
      ]
     },
     "metadata": {},
     "output_type": "display_data"
    }
   ],
   "source": [
    "res = np.array(face_data.pixels[92].split(' '),dtype='int16')\n",
    "plt.imshow(res.reshape(48,48),cmap='gray')"
   ]
  },
  {
   "cell_type": "code",
   "execution_count": 4,
   "id": "026586ae-7987-411d-b668-8d57c6225a22",
   "metadata": {},
   "outputs": [
    {
     "data": {
      "text/html": [
       "<div>\n",
       "<style scoped>\n",
       "    .dataframe tbody tr th:only-of-type {\n",
       "        vertical-align: middle;\n",
       "    }\n",
       "\n",
       "    .dataframe tbody tr th {\n",
       "        vertical-align: top;\n",
       "    }\n",
       "\n",
       "    .dataframe thead th {\n",
       "        text-align: right;\n",
       "    }\n",
       "</style>\n",
       "<table border=\"1\" class=\"dataframe\">\n",
       "  <thead>\n",
       "    <tr style=\"text-align: right;\">\n",
       "      <th></th>\n",
       "      <th>emotion</th>\n",
       "      <th>pixels</th>\n",
       "    </tr>\n",
       "    <tr>\n",
       "      <th>Usage</th>\n",
       "      <th></th>\n",
       "      <th></th>\n",
       "    </tr>\n",
       "  </thead>\n",
       "  <tbody>\n",
       "    <tr>\n",
       "      <th>PrivateTest</th>\n",
       "      <td>3589</td>\n",
       "      <td>3589</td>\n",
       "    </tr>\n",
       "    <tr>\n",
       "      <th>PublicTest</th>\n",
       "      <td>3589</td>\n",
       "      <td>3589</td>\n",
       "    </tr>\n",
       "    <tr>\n",
       "      <th>Training</th>\n",
       "      <td>28709</td>\n",
       "      <td>28709</td>\n",
       "    </tr>\n",
       "  </tbody>\n",
       "</table>\n",
       "</div>"
      ],
      "text/plain": [
       "             emotion  pixels\n",
       "Usage                       \n",
       "PrivateTest     3589    3589\n",
       "PublicTest      3589    3589\n",
       "Training       28709   28709"
      ]
     },
     "execution_count": 4,
     "metadata": {},
     "output_type": "execute_result"
    }
   ],
   "source": [
    "face_data.groupby('Usage').count()"
   ]
  },
  {
   "cell_type": "code",
   "execution_count": 5,
   "id": "8f737184-44f9-4a73-985c-f26ac23a03cf",
   "metadata": {},
   "outputs": [],
   "source": [
    "train = pd.concat([face_data[face_data.Usage=='PublicTest'],face_data[face_data.Usage=='Training']])\n",
    "test = face_data[face_data.Usage=='PrivateTest']"
   ]
  },
  {
   "cell_type": "code",
   "execution_count": 6,
   "id": "490e40d7-ce63-4c8b-becb-3a608f5b15c2",
   "metadata": {},
   "outputs": [],
   "source": [
    "x_train = train.iloc[:,1:-1]\n",
    "y_train = train.iloc[:,0]\n",
    "x_test = test.iloc[:,1:-1]\n",
    "y_test = test.iloc[:,0]"
   ]
  },
  {
   "cell_type": "code",
   "execution_count": 7,
   "id": "31d28957-d4c0-431d-b167-0de027675aa3",
   "metadata": {},
   "outputs": [
    {
     "data": {
      "text/plain": [
       "(32298, 2304)"
      ]
     },
     "execution_count": 7,
     "metadata": {},
     "output_type": "execute_result"
    }
   ],
   "source": [
    "y_train1 = np.array(y_train).reshape(-1,1)\n",
    "y_train1.shape\n",
    "list1 = []\n",
    "for i in range(len(x_train.pixels)):\n",
    "    m = x_train.pixels[i].split(' ')\n",
    "    list1.append(m)\n",
    "x_train1 = np.array(list1)\n",
    "x_train1.shape"
   ]
  },
  {
   "cell_type": "code",
   "execution_count": 8,
   "id": "8a3ddaea-b3a5-4c4d-9034-0957232b8077",
   "metadata": {},
   "outputs": [
    {
     "data": {
      "text/plain": [
       "(3589, 2304)"
      ]
     },
     "execution_count": 8,
     "metadata": {},
     "output_type": "execute_result"
    }
   ],
   "source": [
    "y_test1 = np.array(y_test).reshape(-1,1)\n",
    "y_test1.shape\n",
    "list2 = []\n",
    "for i in range(len(x_test.pixels)):\n",
    "    m = x_test.pixels[x_test.index[i]].split(' ')\n",
    "    list2.append(m)\n",
    "x_test1 = np.array(list2)\n",
    "x_test1.shape"
   ]
  },
  {
   "cell_type": "code",
   "execution_count": 9,
   "id": "ab37ecba-3df1-4fe3-b3b6-b41d0200200d",
   "metadata": {},
   "outputs": [
    {
     "data": {
      "text/plain": [
       "0.22764001114516577"
      ]
     },
     "execution_count": 9,
     "metadata": {},
     "output_type": "execute_result"
    }
   ],
   "source": [
    "# 逻辑回归\n",
    "lr = LogisticRegression()\n",
    "lr.fit(x_train1,y_train1)\n",
    "y_pred = lr.predict(x_test1)\n",
    "acc = accuracy_score(y_test1,y_pred)\n",
    "acc"
   ]
  },
  {
   "cell_type": "code",
   "execution_count": 9,
   "id": "89dc264e-3b74-4f78-a281-0d5d63bbce75",
   "metadata": {},
   "outputs": [
    {
     "data": {
      "text/plain": [
       "SVC(C=10)"
      ]
     },
     "execution_count": 9,
     "metadata": {},
     "output_type": "execute_result"
    }
   ],
   "source": [
    "# SVC\n",
    "model = SVC(kernel='rbf',C=10)\n",
    "model.fit(x_train1,y_train1)"
   ]
  },
  {
   "cell_type": "code",
   "execution_count": 10,
   "id": "84c6bf3d-c816-4bf3-92ff-a0178c534bc0",
   "metadata": {},
   "outputs": [
    {
     "data": {
      "text/plain": [
       "['svc10.pkl']"
      ]
     },
     "execution_count": 10,
     "metadata": {},
     "output_type": "execute_result"
    }
   ],
   "source": [
    "import joblib\n",
    "joblib.dump(model,'svc10.pkl')"
   ]
  },
  {
   "cell_type": "code",
   "execution_count": 11,
   "id": "5efe5896-00be-4dc5-aa93-2485416e3f72",
   "metadata": {},
   "outputs": [
    {
     "data": {
      "text/plain": [
       "0.18974644747840624"
      ]
     },
     "execution_count": 11,
     "metadata": {},
     "output_type": "execute_result"
    }
   ],
   "source": [
    "y_pred = model.predict(x_test1)\n",
    "acc = accuracy_score(y_test1,y_pred)\n",
    "acc"
   ]
  },
  {
   "cell_type": "code",
   "execution_count": null,
   "id": "f7c3887c-a713-4fb7-8aa5-2743f2d72368",
   "metadata": {},
   "outputs": [],
   "source": []
  }
 ],
 "metadata": {
  "kernelspec": {
   "display_name": "Python 3 (ipykernel)",
   "language": "python",
   "name": "python3"
  },
  "language_info": {
   "codemirror_mode": {
    "name": "ipython",
    "version": 3
   },
   "file_extension": ".py",
   "mimetype": "text/x-python",
   "name": "python",
   "nbconvert_exporter": "python",
   "pygments_lexer": "ipython3",
   "version": "3.9.13"
  }
 },
 "nbformat": 4,
 "nbformat_minor": 5
}
