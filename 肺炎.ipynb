{
 "cells": [
  {
   "cell_type": "code",
   "execution_count": 1,
   "id": "a75df991-cf42-4797-8fde-83555ffad8e2",
   "metadata": {},
   "outputs": [],
   "source": [
    "import torchvision\n",
    "from torchvision import transforms\n",
    "import torch\n",
    "import matplotlib.pyplot as plt \n",
    "import numpy as np \n",
    "from skimage import io,transform,morphology\n",
    "import torch.nn as nn\n",
    "import warnings\n",
    "warnings.filterwarnings('ignore')\n",
    "import time"
   ]
  },
  {
   "cell_type": "code",
   "execution_count": 40,
   "id": "4af8e85f-2459-4ae1-a187-37ea6ff323c4",
   "metadata": {},
   "outputs": [],
   "source": [
    "train_dir = 'data/chest_xray/train/'\n",
    "test_dir = 'data/chest_xray/test/'\n",
    "\n",
    "\n",
    "transform = transforms.Compose([\n",
    "    transforms.ToTensor(), # pic-->tensor()\n",
    "    transforms.Resize([128,128]),\n",
    "    transforms.Grayscale(), # 灰度\n",
    "])\n",
    "\n",
    "train_ds = torchvision.datasets.ImageFolder(\n",
    "    train_dir,\n",
    "    transform=transform\n",
    ")\n",
    "test_ds = torchvision.datasets.ImageFolder(\n",
    "    test_dir,\n",
    "    transform=transform\n",
    ")\n",
    "\n",
    "BATCHSIZE = 16\n",
    "train_dl = torch.utils.data.DataLoader(\n",
    "    train_ds,\n",
    "    batch_size=BATCHSIZE,\n",
    "    shuffle=True\n",
    ")\n",
    "\n",
    "test_dl = torch.utils.data.DataLoader(\n",
    "    test_ds,\n",
    "    batch_size=BATCHSIZE\n",
    ")"
   ]
  },
  {
   "cell_type": "code",
   "execution_count": 41,
   "id": "303bb50d-885d-4586-81f4-384c9ba88d85",
   "metadata": {},
   "outputs": [],
   "source": [
    "# imgs,labels = next(iter(test_dl))"
   ]
  },
  {
   "cell_type": "code",
   "execution_count": 39,
   "id": "39e908fa-2036-4ed7-96ec-38b2a3d27c1b",
   "metadata": {},
   "outputs": [],
   "source": [
    "# img_1 = imgs[0].squeeze()\n",
    "# plt.imshow(img_1,cmap='gray')"
   ]
  },
  {
   "cell_type": "code",
   "execution_count": 28,
   "id": "5d737b0f-7cf9-4273-9c12-098725bb8e86",
   "metadata": {},
   "outputs": [],
   "source": [
    "class CnnModel(nn.Module):\n",
    "    # 构建组件\n",
    "    def __init__(self):\n",
    "        super().__init__()\n",
    "        self.conv1 = nn.Conv2d(1,6,5) # 默认移动窗口为1（stride=1）\n",
    "        self.conv2 = nn.Conv2d(6,16,5)\n",
    "        self.Linear1 = nn.Linear(16*29*29,128)\n",
    "        self.Linear2 = nn.Linear(128,2)\n",
    "\n",
    "    # 前向传播\n",
    "    def forward(self,inputs):\n",
    "        x = torch.max_pool2d(torch.relu(self.conv1(inputs)),2)\n",
    "        x = torch.max_pool2d(torch.relu(self.conv2(x)),2)\n",
    "        # 将数据展平为2维度\n",
    "        x = x.view(-1,16*29*29)\n",
    "        x = torch.relu(self.Linear1(x)) # 连接全连接\n",
    "        x = self.Linear2(x) # 输出层\n",
    "        return x"
   ]
  },
  {
   "cell_type": "code",
   "execution_count": 30,
   "id": "79e749a8-3472-448f-9e6f-c41b6b8c322c",
   "metadata": {},
   "outputs": [],
   "source": [
    "# models = CnnModel()\n",
    "# models(imgs)"
   ]
  },
  {
   "cell_type": "code",
   "execution_count": 31,
   "id": "149ba82c-017d-4730-9de3-4698607ddbd4",
   "metadata": {},
   "outputs": [],
   "source": [
    "device = torch.device('cuda' if torch.cuda.is_available() else 'cpu')\n",
    "# 模拟模型放入加速运算的GPU\n",
    "model = CnnModel().to(device)"
   ]
  },
  {
   "cell_type": "code",
   "execution_count": 32,
   "id": "33ee2fff-7e8c-4f4b-a061-1c435e83b7c5",
   "metadata": {},
   "outputs": [],
   "source": [
    "# 定义一个损失函数(初始化损失函数)\n",
    "loss_fn = nn.CrossEntropyLoss()\n",
    "# 初始化优化器\n",
    "optimizer = torch.optim.SGD(model.parameters(),lr=0.01)"
   ]
  },
  {
   "cell_type": "code",
   "execution_count": 33,
   "id": "6fcc8ce5-6f9a-4088-9e52-2beb3c8d165d",
   "metadata": {},
   "outputs": [],
   "source": [
    "# 搭建训练步骤\n",
    "def train(dataloader,model,loss_fn,optimizer):\n",
    "    # acc 当前样本一共有多少个\n",
    "    size = len(dataloader.dataset)\n",
    "    num_batcher = len(dataloader)\n",
    "    # 初始化loss值\n",
    "    train_loss,correct = 0,0\n",
    "    for X,y in dataloader:\n",
    "        X,y = X.to(device),y.to(device)\n",
    "        # 前向传播（推理）\n",
    "        pred = model(X)\n",
    "        # 产生误差\n",
    "        loss = loss_fn(pred,y) # 返回平均误差\n",
    "        # 归零权重(固定写法)\n",
    "        optimizer.zero_grad()\n",
    "        # 反向传递\n",
    "        loss.backward()\n",
    "        # 利用梯度下降优化参数\n",
    "        optimizer.step()\n",
    "        # 放弃张量微分的追踪（小验证）\n",
    "        with torch.no_grad():\n",
    "            train_loss +=loss.item()\n",
    "            correct += (pred.argmax(1)==y).type(torch.float).sum().item()\n",
    "    correct /= size\n",
    "    train_loss /= num_batcher\n",
    "    return train_loss,correct"
   ]
  },
  {
   "cell_type": "code",
   "execution_count": 34,
   "id": "83366386-9685-408e-b8b5-2ee73e0b93f1",
   "metadata": {},
   "outputs": [],
   "source": [
    "# 搭建训练模块\n",
    "def test(dataloader,model):\n",
    "    # acc 当前样本一共有多少个\n",
    "    size = len(dataloader.dataset)\n",
    "    num_batcher = len(dataloader)\n",
    "    test_loss,correct = 0,0\n",
    "    with torch.no_grad():\n",
    "        for X,y in dataloader:\n",
    "            X,y = X.to(device),y.to(device)\n",
    "            # 推理\n",
    "            pred = model(X)\n",
    "            test_loss += loss_fn(pred,y)\n",
    "            correct += (pred.argmax(1)==y).type(torch.float).sum().item()\n",
    "    correct /= size\n",
    "    test_loss /= num_batcher\n",
    "    return test_loss,correct"
   ]
  },
  {
   "cell_type": "code",
   "execution_count": 2,
   "id": "a58db847-9d01-46a3-b183-be5fca597286",
   "metadata": {},
   "outputs": [],
   "source": [
    "epochs = 5\n",
    "train_acc=[]\n",
    "train_loss =[]\n",
    "test_acc = []\n",
    "test_loss = []\n",
    "for epoch in range(epochs):   \n",
    "    start = time.time()\n",
    "    epoch_loss,epoch_acc = train(dataloader=train_dl,model=model,loss_fn=loss_fn,optimizer=optimizer)\n",
    "    epoch_test_loss,epoch_test_acc = test(dataloader=test_dl,model=model)\n",
    "    end = time.time()\n",
    "    times = end-start\n",
    "    train_acc.append(epoch_acc)\n",
    "    train_loss.append(epoch_loss)\n",
    "    test_acc.append(epoch_test_acc)\n",
    "    test_loss.append(epoch_test_loss)\n",
    "    print('训练epoch{},训练集损失值:{:.2f},训练集的准确率:{:.1f}%,测试集损失值:{:.2f},测试集的准确率:{:.2f}%,消耗时间：{:.2f}s'\n",
    "          .format(epoch+1,epoch_loss,epoch_acc*100,epoch_test_loss,epoch_test_acc*100,times))"
   ]
  },
  {
   "cell_type": "code",
   "execution_count": null,
   "id": "db50af4f-a71a-4e3c-847d-77bbf8d40dc0",
   "metadata": {},
   "outputs": [],
   "source": []
  }
 ],
 "metadata": {
  "kernelspec": {
   "display_name": "Python 3 (ipykernel)",
   "language": "python",
   "name": "python3"
  },
  "language_info": {
   "codemirror_mode": {
    "name": "ipython",
    "version": 3
   },
   "file_extension": ".py",
   "mimetype": "text/x-python",
   "name": "python",
   "nbconvert_exporter": "python",
   "pygments_lexer": "ipython3",
   "version": "3.9.13"
  }
 },
 "nbformat": 4,
 "nbformat_minor": 5
}
